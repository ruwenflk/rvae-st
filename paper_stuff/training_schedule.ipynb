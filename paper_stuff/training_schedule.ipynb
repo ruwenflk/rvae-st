{
 "cells": [
  {
   "cell_type": "code",
   "execution_count": null,
   "metadata": {},
   "outputs": [],
   "source": [
    "import sys, os\n",
    "import numpy as np\n",
    "from tqdm import tqdm\n",
    "module_path = os.path.abspath(os.path.join(\"..\"))\n",
    "sys.path.append(module_path + \"/src\")\n",
    "\n",
    "from config.Config import Config\n",
    "from models.TrainModel import TrainModel\n",
    "from shared import utils\n",
    "import pandas as pd\n",
    "from data.Data import Data\n",
    "from shared import gpu_selection\n",
    "from shared import plots\n",
    "gpu_selection.autoselect_gpu()\n",
    "import matplotlib.pyplot as plt\n",
    "import elbo_calculator"
   ]
  },
  {
   "cell_type": "code",
   "execution_count": null,
   "metadata": {},
   "outputs": [],
   "source": [
    "N_EXPERIMENTS = 10\n",
    "\n",
    "output_dir = \"../output/\"\n",
    "#dataset_dirs = [\"Lenze\"]\n",
    "#schedules = [\"Lenze_batch64_f_only\"]\n",
    "#dataset_dirs = [\"Lenze\", \"Ecg_Heart\"]\n",
    "dataset_dirs = [\"ti-rvae-july/lenze\", \"ti-rvae/ecg\", \"ti-rvae/ett\"]\n",
    "#dataset_dirs = [\"ti-rvae/ett\"]\n",
    "#schedules = [\"Lenze_batch64_f_only\", \"Lenze_batch64_2f_1b\"]\n",
    "\n",
    "df_results = pd.DataFrame()\n",
    "for dataset_dir in dataset_dirs:\n",
    "    subdir_path = output_dir + dataset_dir\n",
    "\n",
    "    schedule_results = dict()\n",
    "    for schedule_dir in os.listdir(subdir_path):\n",
    "        schedule_dir_path = subdir_path + \"/\" +schedule_dir\n",
    "\n",
    "        results = list()\n",
    "        for dir in (os.listdir(schedule_dir_path)):\n",
    "            subdir = schedule_dir_path + \"/\" + dir\n",
    "            print(f\"processing {subdir}\")\n",
    "            config = Config()\n",
    "            config.select_output_config_by_args(subdir)\n",
    "            config.network_components.loss_fnc = \"mse_kl_no_batch_avg\"\n",
    "            data =  Data(config)\n",
    "            test_data = data.get_sliding_windows(\"train\")\n",
    "            train_model = TrainModel(config)\n",
    "            train_model.compile_model()\n",
    "            \n",
    "            chunks = np.array_split(test_data, 10)\n",
    "            elbos_list = list()\n",
    "            for chunk in chunks:\n",
    "                elbos = train_model.model.call_and_loss(chunk, chunk)[0].numpy()\n",
    "                elbos_list+=list(elbos)\n",
    "            #elbos = train_model.model.evaluate(test_data)[0]\n",
    "            elbos = np.asarray(elbos_list)\n",
    "            elbos_reduced = elbo_calculator.get_elbo_reduced(elbos,\n",
    "                                                             config.hyperparameters.time_window,\n",
    "                                                             config.hyperparameters.n_channels,\n",
    "                                                             config.hyperparameters.alpha,\n",
    "                                                             config.hyperparameters.beta)\n",
    "            elbos_mean = np.mean(elbos_reduced)\n",
    "            results.append(elbos_mean)\n",
    "        filled_results = N_EXPERIMENTS * [np.nan]\n",
    "        filled_results[0:len(results)] = results\n",
    "        if (len(filled_results) != len(results)):\n",
    "            print(f\"Warning:  subdir_path not enough trained\")\n",
    "        splitted = schedule_dir_path.split(\"/\")\n",
    "        df_results[splitted[-2]+splitted[-1]] = filled_results  \n"
   ]
  },
  {
   "cell_type": "code",
   "execution_count": null,
   "metadata": {},
   "outputs": [],
   "source": [
    "df_results.head(n=10)"
   ]
  },
  {
   "cell_type": "code",
   "execution_count": null,
   "metadata": {},
   "outputs": [],
   "source": [
    "for col in df_results.columns:\n",
    "    mean = df_results[col].mean()\n",
    "    std = df_results[col].std()\n",
    "    print(f\"{col}: {mean} +- {std}\")"
   ]
  }
 ],
 "metadata": {
  "kernelspec": {
   "display_name": "venv",
   "language": "python",
   "name": "python3"
  },
  "language_info": {
   "codemirror_mode": {
    "name": "ipython",
    "version": 3
   },
   "file_extension": ".py",
   "mimetype": "text/x-python",
   "name": "python",
   "nbconvert_exporter": "python",
   "pygments_lexer": "ipython3",
   "version": "3.10.9"
  },
  "orig_nbformat": 4
 },
 "nbformat": 4,
 "nbformat_minor": 2
}
